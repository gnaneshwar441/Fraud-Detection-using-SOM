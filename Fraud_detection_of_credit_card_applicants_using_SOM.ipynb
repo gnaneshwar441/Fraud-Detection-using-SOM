{
 "cells": [
  {
   "cell_type": "markdown",
   "metadata": {},
   "source": [
    "# Potential Fraud Detection of advanced credit card applicants using Self Organizing Maps (SOM)"
   ]
  },
  {
   "cell_type": "markdown",
   "metadata": {},
   "source": [
    "## Business Problem"
   ]
  },
  {
   "cell_type": "markdown",
   "metadata": {},
   "source": [
    "The data set that contains information of customers of a large Australian bank applying for an advanced credit card. These information are provided by the customers while filling the application forms. The objective here is to detect potential fraud applicants within these applications and a give a list of customers that might be potentially fraud."
   ]
  },
  {
   "cell_type": "markdown",
   "metadata": {},
   "source": [
    "## Solution"
   ]
  },
  {
   "cell_type": "markdown",
   "metadata": {},
   "source": [
    "Since we do not have any training data set that identifies the potential fraud applicants, I'll not be able to train a model based on Supervised learning. So I'll be treating this problem as a Unsupervised learning problem.\n",
    "Hence, the method I'm using to solve this unsupervised problem is unsupervised deep learning model called Self Organizing Maps (SOM)"
   ]
  },
  {
   "cell_type": "markdown",
   "metadata": {},
   "source": [
    "## Code"
   ]
  },
  {
   "cell_type": "code",
   "execution_count": 33,
   "metadata": {},
   "outputs": [],
   "source": [
    "# Importing the libraries\n",
    "import numpy as np\n",
    "import matplotlib.pyplot as plt\n",
    "import pandas as pd\n"
   ]
  },
  {
   "cell_type": "code",
   "execution_count": 34,
   "metadata": {},
   "outputs": [],
   "source": [
    "# Importing the dataset\n",
    "dataset = pd.read_csv('Credit_Card_Applications.csv')\n",
    "X = dataset.iloc[:, :-1].values\n",
    "y = dataset.iloc[:, -1].values\n"
   ]
  },
  {
   "cell_type": "code",
   "execution_count": 35,
   "metadata": {},
   "outputs": [],
   "source": [
    "# Feature Scaling\n",
    "from sklearn.preprocessing import MinMaxScaler\n",
    "sc = MinMaxScaler(feature_range = (0, 1))\n",
    "X = sc.fit_transform(X)\n"
   ]
  },
  {
   "cell_type": "code",
   "execution_count": 52,
   "metadata": {},
   "outputs": [],
   "source": [
    "# Training the SOM\n",
    "from minisom import MiniSom\n",
    "som = MiniSom(x = 10, y = 10, input_len = 15, sigma = 1.0, learning_rate = 0.5)\n",
    "som.random_weights_init(X)\n",
    "som.train_random(data = X, num_iteration = 100)\n"
   ]
  },
  {
   "cell_type": "code",
   "execution_count": 53,
   "metadata": {},
   "outputs": [
    {
     "data": {
      "image/png": "[encoded data removed]",
      "text/plain": [
       "<Figure size 432x288 with 2 Axes>"
      ]
     },
     "metadata": {
      "needs_background": "light"
     },
     "output_type": "display_data"
    }
   ],
   "source": [
    "# Visualizing the results\n",
    "from pylab import bone, pcolor, colorbar, plot, show\n",
    "bone()\n",
    "pcolor(som.distance_map().T)\n",
    "colorbar()\n",
    "# Green box means applicants were accepted by bank\n",
    "# Red circle means applicants were rejected by bank\n",
    "markers = ['o', 's']\n",
    "colors = ['r', 'g']\n",
    "for i, x in enumerate(X):\n",
    "    w = som.winner(x)\n",
    "    plot(w[0] + 0.5,\n",
    "         w[1] + 0.5,\n",
    "         markers[y[i]],\n",
    "         markeredgecolor = colors[y[i]],\n",
    "         markerfacecolor = 'None',\n",
    "         markersize = 10,\n",
    "         markeredgewidth = 2)\n",
    "show()\n"
   ]
  },
  {
   "cell_type": "code",
   "execution_count": 54,
   "metadata": {},
   "outputs": [],
   "source": [
    "# Finding the frauds\n",
    "mappings = som.win_map(X)\n",
    "frauds = np.concatenate((mappings[(7,3)], mappings[(8,1)]), axis = 0)\n",
    "frauds = sc.inverse_transform(frauds)"
   ]
  },
  {
   "cell_type": "code",
   "execution_count": 57,
   "metadata": {},
   "outputs": [
    {
     "name": "stdout",
     "output_type": "stream",
     "text": [
      "Total potential fraud applicants:  22 \n",
      "\n",
      "            0    1      2       3    4     5    6      7    8    9    10   11  \\\n",
      "0   15699839.0  0.0  28.17   0.585  2.0   6.0  4.0  0.040  0.0  0.0  0.0  0.0   \n",
      "1   15705918.0  0.0  37.33   2.500  2.0   3.0  8.0  0.210  0.0  0.0  0.0  0.0   \n",
      "2   15706762.0  0.0  40.83   3.500  2.0   3.0  5.0  0.500  0.0  0.0  0.0  0.0   \n",
      "3   15672894.0  0.0  18.58  10.000  2.0   2.0  4.0  0.415  0.0  0.0  0.0  0.0   \n",
      "4   15783883.0  0.0  38.92   1.665  2.0   6.0  4.0  0.250  0.0  0.0  0.0  0.0   \n",
      "5   15756538.0  0.0  39.08   4.000  2.0   8.0  4.0  3.000  0.0  0.0  0.0  0.0   \n",
      "6   15651868.0  0.0  38.75   1.500  2.0   1.0  1.0  0.000  0.0  0.0  0.0  0.0   \n",
      "7   15728523.0  0.0  38.33   4.415  2.0   8.0  4.0  0.125  0.0  0.0  0.0  0.0   \n",
      "8   15651460.0  0.0  69.50   6.000  2.0   1.0  1.0  0.000  0.0  0.0  0.0  0.0   \n",
      "9   15675926.0  0.0  19.17   5.415  2.0   3.0  8.0  0.290  0.0  0.0  0.0  0.0   \n",
      "10  15672637.0  0.0  36.75   4.710  2.0   1.0  1.0  0.000  0.0  0.0  0.0  0.0   \n",
      "11  15769548.0  0.0  32.00   6.000  2.0   2.0  4.0  1.250  0.0  0.0  0.0  0.0   \n",
      "12  15752344.0  0.0  21.08   5.000  1.0   1.0  1.0  0.000  0.0  0.0  0.0  0.0   \n",
      "13  15736533.0  0.0  31.57  11.250  2.0   1.0  1.0  0.000  0.0  0.0  0.0  0.0   \n",
      "14  15779207.0  0.0  27.33   1.665  2.0   1.0  1.0  0.000  0.0  0.0  0.0  0.0   \n",
      "15  15609987.0  0.0  22.67   0.790  2.0   3.0  4.0  0.085  0.0  0.0  0.0  0.0   \n",
      "16  15752578.0  0.0  41.58   1.040  2.0   6.0  4.0  0.665  0.0  0.0  0.0  0.0   \n",
      "17  15666096.0  0.0  52.50   7.000  2.0   6.0  8.0  3.000  0.0  0.0  0.0  0.0   \n",
      "18  15609758.0  0.0  20.75   9.540  2.0   3.0  4.0  0.040  0.0  0.0  0.0  0.0   \n",
      "19  15615296.0  0.0  17.92  10.210  2.0   1.0  1.0  0.000  0.0  0.0  0.0  0.0   \n",
      "20  15805261.0  0.0  48.17   1.335  2.0   3.0  7.0  0.335  0.0  0.0  0.0  0.0   \n",
      "21  15793317.0  1.0  21.08  10.085  1.0  10.0  8.0  1.250  0.0  0.0  0.0  0.0   \n",
      "\n",
      "     12      13      14  \n",
      "0   2.0   260.0  1005.0  \n",
      "1   2.0   260.0   247.0  \n",
      "2   1.0  1160.0     1.0  \n",
      "3   2.0    80.0    43.0  \n",
      "4   2.0     0.0   391.0  \n",
      "5   2.0   480.0     1.0  \n",
      "6   2.0    76.0     1.0  \n",
      "7   2.0   160.0     1.0  \n",
      "8   1.0     0.0     1.0  \n",
      "9   2.0    80.0   485.0  \n",
      "10  2.0   160.0     1.0  \n",
      "11  2.0   272.0     1.0  \n",
      "12  2.0     0.0     1.0  \n",
      "13  2.0   184.0  5201.0  \n",
      "14  2.0   340.0     2.0  \n",
      "15  2.0   144.0     1.0  \n",
      "16  2.0   240.0   238.0  \n",
      "17  2.0     0.0     1.0  \n",
      "18  2.0   200.0  1001.0  \n",
      "19  2.0     0.0    51.0  \n",
      "20  2.0     0.0   121.0  \n",
      "21  2.0   260.0     1.0  \n"
     ]
    }
   ],
   "source": [
    "print(\"Total potential fraud applicants: \",len(frauds),\"\\n\")\n",
    "print(pd.DataFrame(frauds))"
   ]
  },
  {
   "cell_type": "markdown",
   "metadata": {},
   "source": [
    "Column 0 contains the potential fraud Customer IDs. Columns 1-14 are values that the applicants filled while filling the application forms. Column names are masked to maintain customer's confidentiality and for representation purpose only."
   ]
  },
  {
   "cell_type": "code",
   "execution_count": null,
   "metadata": {},
   "outputs": [],
   "source": []
  }
 ],
 "metadata": {
  "kernelspec": {
   "display_name": "Python 3",
   "language": "python",
   "name": "python3"
  },
  "language_info": {
   "codemirror_mode": {
    "name": "ipython",
    "version": 3
   },
   "file_extension": ".py",
   "mimetype": "text/x-python",
   "name": "python",
   "nbconvert_exporter": "python",
   "pygments_lexer": "ipython3",
   "version": "3.7.1"
  }
 },
 "nbformat": 4,
 "nbformat_minor": 2
}
